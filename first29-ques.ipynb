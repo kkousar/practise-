{
  "nbformat": 4,
  "nbformat_minor": 0,
  "metadata": {
    "colab": {
      "name": "Untitled18.ipynb",
      "provenance": [],
      "authorship_tag": "ABX9TyMi/vDV4t31b4sGXe5hoA0P",
      "include_colab_link": true
    },
    "kernelspec": {
      "name": "python3",
      "display_name": "Python 3"
    },
    "language_info": {
      "name": "python"
    }
  },
  "cells": [
    {
      "cell_type": "markdown",
      "metadata": {
        "id": "view-in-github",
        "colab_type": "text"
      },
      "source": [
        "<a href=\"https://colab.research.google.com/github/kkousar/practise-/blob/main/first29-ques.ipynb\" target=\"_parent\"><img src=\"https://colab.research.google.com/assets/colab-badge.svg\" alt=\"Open In Colab\"/></a>"
      ]
    },
    {
      "cell_type": "markdown",
      "source": [
        "Python program to reverse a number"
      ],
      "metadata": {
        "id": "gh_1Rsp5MY09"
      }
    },
    {
      "cell_type": "code",
      "execution_count": null,
      "metadata": {
        "colab": {
          "base_uri": "https://localhost:8080/"
        },
        "id": "nUFXT92EMG3l",
        "outputId": "15d54681-6f80-4ffd-d00f-8e95ff60a5e4"
      },
      "outputs": [
        {
          "output_type": "stream",
          "name": "stdout",
          "text": [
            "reverse of a string is 654\n"
          ]
        }
      ],
      "source": [
        "n=456;\n",
        "reverse=0;\n",
        "while n!=0:\n",
        "  reverse=reverse*10+n%10;\n",
        "  n=n//10;\n",
        "print('reverse of a string is '+str(reverse));"
      ]
    },
    {
      "cell_type": "markdown",
      "source": [
        "Program to check a number is Armstrong or not in python programming language"
      ],
      "metadata": {
        "id": "URWkJkpZNHCm"
      }
    },
    {
      "cell_type": "code",
      "source": [
        "a=344\n",
        "n=a;\n",
        "ams=0;\n",
        "while n!=0:\n",
        "  ams=ams+(n%10)**3;\n",
        "  n=n//10;\n",
        "if ams==a:\n",
        "  print('it is an amstrong number');\n",
        "else:\n",
        "  print('it is not an amstrong number');"
      ],
      "metadata": {
        "colab": {
          "base_uri": "https://localhost:8080/"
        },
        "id": "Ulu9LFv5NVsv",
        "outputId": "513c0257-8781-4c16-fb9d-aca18680ca86"
      },
      "execution_count": null,
      "outputs": [
        {
          "output_type": "stream",
          "name": "stdout",
          "text": [
            "it is not an amstrong number\n"
          ]
        }
      ]
    },
    {
      "cell_type": "markdown",
      "source": [
        "prime or not"
      ],
      "metadata": {
        "id": "-HZUKckxOTXz"
      }
    },
    {
      "cell_type": "code",
      "source": [
        "a=12;\n",
        "if (a%2==0):\n",
        "  print('it is prime');\n",
        "else:\n",
        "  print('it is not a prime')"
      ],
      "metadata": {
        "colab": {
          "base_uri": "https://localhost:8080/"
        },
        "id": "_arqrIgAOad-",
        "outputId": "4eace091-4951-4343-b563-769842086941"
      },
      "execution_count": null,
      "outputs": [
        {
          "output_type": "stream",
          "name": "stdout",
          "text": [
            "it is prime\n"
          ]
        }
      ]
    },
    {
      "cell_type": "markdown",
      "source": [
        "fabinacco series uing iterative method"
      ],
      "metadata": {
        "id": "9r6WiAYvO0aM"
      }
    },
    {
      "cell_type": "code",
      "source": [
        "n=5;#number of fabinocci numbers\n",
        "n1=0;\n",
        "n2=1;\n",
        "print('0');\n",
        "for i in range(n):\n",
        "  temp=n1\n",
        "  n1=n2\n",
        "  n2=n2+temp;\n",
        "  print(n2);\n"
      ],
      "metadata": {
        "id": "6aahkqN1O0F-"
      },
      "execution_count": null,
      "outputs": []
    },
    {
      "cell_type": "markdown",
      "source": [
        "fabinacco series uing recursive method"
      ],
      "metadata": {
        "id": "E6TToGN2ID0b"
      }
    },
    {
      "cell_type": "code",
      "source": [
        "n=5;#number of fabinocci numbers\n",
        "def fab(n):\n",
        "  if n==0:\n",
        "    return 0;\n",
        "  elif n==1:\n",
        "    return 1;\n",
        "  else:\n",
        "    return fab(n-1)+fab(n-2);\n",
        "for i in range(5):\n",
        "  print(fab(i));\n"
      ],
      "metadata": {
        "id": "0dFN1Y2pJVlI"
      },
      "execution_count": null,
      "outputs": []
    },
    {
      "cell_type": "markdown",
      "source": [
        "palindrome number or not using iterative method"
      ],
      "metadata": {
        "id": "bE8payJ9LOSk"
      }
    },
    {
      "cell_type": "code",
      "source": [
        "a=121;\n",
        "n=a;\n",
        "reverse=0;\n",
        "while n!=0:\n",
        "  reverse=reverse*10+n%10;\n",
        "  n=n//10;\n",
        "if (reverse==a):\n",
        "  print('it is a palindrome');\n",
        "else:\n",
        "  print('not a palindrome');"
      ],
      "metadata": {
        "colab": {
          "base_uri": "https://localhost:8080/"
        },
        "id": "xU6kI0NJLNH2",
        "outputId": "639959d8-f1ba-4fe2-913c-6b4ff81be95a"
      },
      "execution_count": null,
      "outputs": [
        {
          "output_type": "stream",
          "name": "stdout",
          "text": [
            "it is a palindrome\n"
          ]
        }
      ]
    },
    {
      "cell_type": "markdown",
      "source": [
        "Below is the program to check given number representation is in binary or not"
      ],
      "metadata": {
        "id": "ZXW0i2k1jM9e"
      }
    },
    {
      "cell_type": "code",
      "source": [
        "n=str(101010);\n",
        "for i in range(len(n)):\n",
        "  if (int(n[i])!=0)&(int(n[i])!=1):\n",
        "    print('it is not  a binary number');\n",
        "    break;\n",
        "  elif i==len(n)-1:\n",
        "      print('it is a binary number');"
      ],
      "metadata": {
        "id": "5IvoMJXjjN0Y",
        "outputId": "3829a341-f79e-48de-beab-8d9957c33c62",
        "colab": {
          "base_uri": "https://localhost:8080/"
        }
      },
      "execution_count": 40,
      "outputs": [
        {
          "output_type": "stream",
          "name": "stdout",
          "text": [
            "it is a binary number\n"
          ]
        }
      ]
    },
    {
      "cell_type": "markdown",
      "source": [
        "Swap two variables without using the third variable in Python"
      ],
      "metadata": {
        "id": "zXUZ8uSVq9Hl"
      }
    },
    {
      "cell_type": "code",
      "source": [
        "a=10;\n",
        "b=15;\n",
        "a=a+b\n",
        "b=a-b;\n",
        "a=a-b;\n",
        "print(a);\n",
        "print(b)"
      ],
      "metadata": {
        "id": "kb9uAe0Fq-IN"
      },
      "execution_count": null,
      "outputs": []
    },
    {
      "cell_type": "markdown",
      "source": [
        "Swap two variables with using the third variable in Python"
      ],
      "metadata": {
        "id": "Xk8LQIh0r2y6"
      }
    },
    {
      "cell_type": "code",
      "source": [
        "a=10;\n",
        "b=15;\n",
        "c=a;\n",
        "a=b;\n",
        "b=c;\n",
        "print(a);\n",
        "print(b)"
      ],
      "metadata": {
        "id": "3vbnkMKsr4Bf",
        "outputId": "bb2fb93b-d12c-4841-d211-d0eb2bb6ac01",
        "colab": {
          "base_uri": "https://localhost:8080/"
        }
      },
      "execution_count": 42,
      "outputs": [
        {
          "output_type": "stream",
          "name": "stdout",
          "text": [
            "15\n",
            "10\n"
          ]
        }
      ]
    },
    {
      "cell_type": "markdown",
      "source": [
        "prime factors of given number"
      ],
      "metadata": {
        "id": "bVTjONjfsqXt"
      }
    },
    {
      "cell_type": "code",
      "source": [
        "n=10;\n",
        "for i in range(1,n+1):\n",
        "  if n%i==0:\n",
        "    c=0;\n",
        "    for j in range(1,i+1):\n",
        "      if i%2==0:\n",
        "         c+=1;\n",
        "    if c==0:\n",
        "      print(i);\n",
        "    "
      ],
      "metadata": {
        "id": "XIIKI3w3splh"
      },
      "execution_count": null,
      "outputs": []
    },
    {
      "cell_type": "markdown",
      "source": [
        "perfect number"
      ],
      "metadata": {
        "id": "ob80yMYFu8Bd"
      }
    },
    {
      "cell_type": "code",
      "source": [
        "n=28;\n",
        "c=0;\n",
        "for i in range(1,n):\n",
        "  if n%i==0:\n",
        "    c+=i;\n",
        "if c==n:\n",
        "  print('it is perfect number')\n"
      ],
      "metadata": {
        "id": "ePY0OW5du-Ec",
        "outputId": "0c82b4a8-b7f7-4018-83af-1222078d905e",
        "colab": {
          "base_uri": "https://localhost:8080/"
        }
      },
      "execution_count": 61,
      "outputs": [
        {
          "output_type": "stream",
          "name": "stdout",
          "text": [
            "it is perfect number\n"
          ]
        }
      ]
    },
    {
      "cell_type": "code",
      "source": [
        "Python program to find the average of numbers"
      ],
      "metadata": {
        "id": "qPKJSJODwC3G"
      },
      "execution_count": null,
      "outputs": []
    },
    {
      "cell_type": "code",
      "source": [
        "import numpy as np\n",
        "\n",
        "\n",
        "l=[]\n",
        "n=4;\n",
        "for i in range(n):\n",
        "  a=int(input('enter element'+str(i)+' '));\n",
        "  l.append(a)\n",
        "avg=sum(l)//n;\n",
        "print(l)\n",
        "print(avg)\n"
      ],
      "metadata": {
        "id": "7_7SvsEEwH8o"
      },
      "execution_count": null,
      "outputs": []
    },
    {
      "cell_type": "markdown",
      "source": [
        "factorial iterative method"
      ],
      "metadata": {
        "id": "OzHjRXTByJJP"
      }
    },
    {
      "cell_type": "code",
      "source": [
        "n=5;\n",
        "fact=1\n",
        "for i in range(1,n+1):\n",
        "  fact=fact*i;\n",
        "print(fact)"
      ],
      "metadata": {
        "id": "RZxVzqs5yLsQ",
        "outputId": "b59acba1-bf4a-4c0f-f18e-04ab4e0911fb",
        "colab": {
          "base_uri": "https://localhost:8080/"
        }
      },
      "execution_count": 72,
      "outputs": [
        {
          "output_type": "stream",
          "name": "stdout",
          "text": [
            "120\n"
          ]
        }
      ]
    },
    {
      "cell_type": "markdown",
      "source": [
        "factorial using recursion"
      ],
      "metadata": {
        "id": "roqXBtjayhAM"
      }
    },
    {
      "cell_type": "code",
      "source": [
        "def fact(n):\n",
        "  if n==0:\n",
        "    return 1;\n",
        "  else:\n",
        "    return n*fact(n-1);\n",
        "print(fact(1))"
      ],
      "metadata": {
        "id": "ADaIzLERyk-s",
        "outputId": "4ba5e52e-dd37-4f03-bec2-1142a5ddb015",
        "colab": {
          "base_uri": "https://localhost:8080/"
        }
      },
      "execution_count": 79,
      "outputs": [
        {
          "output_type": "stream",
          "name": "stdout",
          "text": [
            "1\n"
          ]
        }
      ]
    },
    {
      "cell_type": "markdown",
      "source": [
        "power of number using for loop"
      ],
      "metadata": {
        "id": "BKy2qiwA1DiB"
      }
    },
    {
      "cell_type": "code",
      "source": [
        "base=2;\n",
        "exponent=3;\n",
        "power=1;\n",
        "for i in range(exponent):\n",
        "  power*=base;\n",
        "print(power)"
      ],
      "metadata": {
        "id": "oBF_KVxh0dyB",
        "outputId": "13ddc375-ecdc-4de7-e26b-800189b38c14",
        "colab": {
          "base_uri": "https://localhost:8080/"
        }
      },
      "execution_count": 81,
      "outputs": [
        {
          "output_type": "stream",
          "name": "stdout",
          "text": [
            "8\n"
          ]
        }
      ]
    },
    {
      "cell_type": "markdown",
      "source": [
        "power using while loop"
      ],
      "metadata": {
        "id": "HbB04Und1bHV"
      }
    },
    {
      "cell_type": "code",
      "source": [
        "base=2;\n",
        "exponent=3;\n",
        "power=1;\n",
        "while exponent>0:\n",
        "  power*=base;\n",
        "  exponent-=1;\n",
        "print(power);"
      ],
      "metadata": {
        "id": "Fb7KySZW1a2G",
        "outputId": "d11e3dd8-f650-4731-ff2d-cb7d23e42d56",
        "colab": {
          "base_uri": "https://localhost:8080/"
        }
      },
      "execution_count": 84,
      "outputs": [
        {
          "output_type": "stream",
          "name": "stdout",
          "text": [
            "8\n"
          ]
        }
      ]
    },
    {
      "cell_type": "code",
      "source": [
        "import math as m\n",
        "print(m.sqrt(4))"
      ],
      "metadata": {
        "id": "-bHDbpTA185P",
        "outputId": "9d40a47a-fdbc-4fee-ad32-7a34e9627d50",
        "colab": {
          "base_uri": "https://localhost:8080/"
        }
      },
      "execution_count": 86,
      "outputs": [
        {
          "output_type": "stream",
          "name": "stdout",
          "text": [
            "2.0\n"
          ]
        }
      ]
    },
    {
      "cell_type": "code",
      "source": [
        "n1=6;\n",
        "n2=4;\n",
        "l=[];\n",
        "lcm=1;\n",
        "\n",
        "for i in range(1,max(n1,n2)):\n",
        "   c=1\n",
        "   while c>0:\n",
        "     if (n1%i==0)&(n2%i==0):\n",
        "       n1=n1/i;\n",
        "       n2=n2/i;\n",
        "       l.append(i);\n",
        "     else:\n",
        "       c=c-1;\n",
        "       if (n1%i!=0):\n",
        "          l.append(n1)\n",
        "       else:\n",
        "          l.append(n2)\n",
        "for i in l:\n",
        "  lcm=lcm*i;\n",
        "print(lcm)\n"
      ],
      "metadata": {
        "id": "-Bv6EDUQ23Eh",
        "outputId": "41057710-b789-4e7d-8713-8a46fc585512",
        "colab": {
          "base_uri": "https://localhost:8080/",
          "height": 235
        }
      },
      "execution_count": 96,
      "outputs": [
        {
          "output_type": "error",
          "ename": "KeyboardInterrupt",
          "evalue": "ignored",
          "traceback": [
            "\u001b[0;31m---------------------------------------------------------------------------\u001b[0m",
            "\u001b[0;31mKeyboardInterrupt\u001b[0m                         Traceback (most recent call last)",
            "\u001b[0;32m<ipython-input-96-bc7aea30b664>\u001b[0m in \u001b[0;36m<module>\u001b[0;34m()\u001b[0m\n\u001b[1;32m      7\u001b[0m    \u001b[0mc\u001b[0m\u001b[0;34m=\u001b[0m\u001b[0;36m1\u001b[0m\u001b[0;34m\u001b[0m\u001b[0;34m\u001b[0m\u001b[0m\n\u001b[1;32m      8\u001b[0m    \u001b[0;32mwhile\u001b[0m \u001b[0mc\u001b[0m\u001b[0;34m>\u001b[0m\u001b[0;36m0\u001b[0m\u001b[0;34m:\u001b[0m\u001b[0;34m\u001b[0m\u001b[0;34m\u001b[0m\u001b[0m\n\u001b[0;32m----> 9\u001b[0;31m      \u001b[0;32mif\u001b[0m \u001b[0;34m(\u001b[0m\u001b[0mn1\u001b[0m\u001b[0;34m%\u001b[0m\u001b[0mi\u001b[0m\u001b[0;34m==\u001b[0m\u001b[0;36m0\u001b[0m\u001b[0;34m)\u001b[0m\u001b[0;34m&\u001b[0m\u001b[0;34m(\u001b[0m\u001b[0mn2\u001b[0m\u001b[0;34m%\u001b[0m\u001b[0mi\u001b[0m\u001b[0;34m==\u001b[0m\u001b[0;36m0\u001b[0m\u001b[0;34m)\u001b[0m\u001b[0;34m:\u001b[0m\u001b[0;34m\u001b[0m\u001b[0;34m\u001b[0m\u001b[0m\n\u001b[0m\u001b[1;32m     10\u001b[0m        \u001b[0mn1\u001b[0m\u001b[0;34m=\u001b[0m\u001b[0mn1\u001b[0m\u001b[0;34m/\u001b[0m\u001b[0mi\u001b[0m\u001b[0;34m;\u001b[0m\u001b[0;34m\u001b[0m\u001b[0;34m\u001b[0m\u001b[0m\n\u001b[1;32m     11\u001b[0m        \u001b[0mn2\u001b[0m\u001b[0;34m=\u001b[0m\u001b[0mn2\u001b[0m\u001b[0;34m/\u001b[0m\u001b[0mi\u001b[0m\u001b[0;34m;\u001b[0m\u001b[0;34m\u001b[0m\u001b[0;34m\u001b[0m\u001b[0m\n",
            "\u001b[0;31mKeyboardInterrupt\u001b[0m: "
          ]
        }
      ]
    }
  ]
}