{
  "nbformat": 4,
  "nbformat_minor": 0,
  "metadata": {
    "colab": {
      "provenance": [],
      "collapsed_sections": [],
      "authorship_tag": "ABX9TyPPzsCK9e+vTbuIhOWT3Zcx",
      "include_colab_link": true
    },
    "kernelspec": {
      "name": "python3",
      "display_name": "Python 3"
    },
    "language_info": {
      "name": "python"
    }
  },
  "cells": [
    {
      "cell_type": "markdown",
      "metadata": {
        "id": "view-in-github",
        "colab_type": "text"
      },
      "source": [
        "<a href=\"https://colab.research.google.com/github/kkousar/practise-/blob/main/Untitled19.ipynb\" target=\"_parent\"><img src=\"https://colab.research.google.com/assets/colab-badge.svg\" alt=\"Open In Colab\"/></a>"
      ]
    },
    {
      "cell_type": "markdown",
      "source": [
        "remove given character from string method 1"
      ],
      "metadata": {
        "id": "h294TK0IJvt2"
      }
    },
    {
      "cell_type": "code",
      "execution_count": null,
      "metadata": {
        "id": "UCOOrnQTax-8",
        "colab": {
          "base_uri": "https://localhost:8080/"
        },
        "outputId": "202bf99c-5f77-4c14-913c-fd6cc23b0859"
      },
      "outputs": [
        {
          "output_type": "stream",
          "name": "stdout",
          "text": [
            "enter stringdsfd\n",
            "enter the character to be removedd\n",
            "sf\n"
          ]
        }
      ],
      "source": [
        "s=input('enter string');\n",
        "c=input('enter the character to be removed: ');\n",
        "if c in s:\n",
        "  print(s.replace(c,''));\n",
        "else:\n",
        "  print('given character is not in string: ');"
      ]
    },
    {
      "cell_type": "markdown",
      "source": [
        "remove character method 2"
      ],
      "metadata": {
        "id": "ITvznzZKMZNm"
      }
    },
    {
      "cell_type": "code",
      "source": [
        "s=input('enter string');\n",
        "c=input('enter the character to be removed: ');\n",
        "dic={ord(c):''};\n",
        "if c in s:\n",
        "  print(s.translate(dic));\n",
        "else:\n",
        "  print('given character is not in string: ');"
      ],
      "metadata": {
        "id": "rWoieXPjMdEJ"
      },
      "execution_count": null,
      "outputs": []
    },
    {
      "cell_type": "markdown",
      "source": [
        "remove character method 3"
      ],
      "metadata": {
        "id": "C9YP6igyaqjC"
      }
    },
    {
      "cell_type": "markdown",
      "source": [
        "occurance of given character in a string using for loop"
      ],
      "metadata": {
        "id": "FK2Gt_mDNM6M"
      }
    },
    {
      "cell_type": "code",
      "source": [
        "s=input('enter string');\n",
        "c=input('enter the character to be removed: ');\n",
        "count=0;\n",
        "if c in s:\n",
        "  for i in s:\n",
        "    if i==c:\n",
        "      count+=1;\n",
        "  print('given character is repeated',count,'times')\n",
        "else:\n",
        "  print('not present')\n",
        "\n"
      ],
      "metadata": {
        "colab": {
          "base_uri": "https://localhost:8080/"
        },
        "id": "pDklrbjPNRIZ",
        "outputId": "4fd111d7-def0-4699-dd4b-67cc52b4ec15"
      },
      "execution_count": null,
      "outputs": [
        {
          "output_type": "stream",
          "name": "stdout",
          "text": [
            "enter stringkutta\n",
            "enter the character to be removed: t\n",
            "given character is repeated 2 times\n"
          ]
        }
      ]
    },
    {
      "cell_type": "markdown",
      "source": [
        "occurance of given character in a string using while loop"
      ],
      "metadata": {
        "id": "McdCC703OM_x"
      }
    },
    {
      "cell_type": "code",
      "source": [
        "s=input('enter string');\n",
        "c=input('enter the character to be removed: ');\n",
        "n=len(s);\n",
        "index=0;\n",
        "count=0\n",
        "if c in s:\n",
        "  while(index<n):\n",
        "    if s[index]==c:\n",
        "      count+=1;\n",
        "    index+=1;\n",
        " e print('given character is repeated',count,'times')\n",
        "else:\n",
        "  print('not present')\n"
      ],
      "metadata": {
        "id": "LXHm8Bk6OP_t"
      },
      "execution_count": null,
      "outputs": []
    },
    {
      "cell_type": "markdown",
      "source": [
        "anagram or not"
      ],
      "metadata": {
        "id": "ZL4jL71wPZKE"
      }
    },
    {
      "cell_type": "code",
      "source": [
        "s1=input('enter string');\n",
        "s2=input('enter the string to be checked: ');\n",
        "if sorted(s1)==sorted(s2):\n",
        "  print(s2+' is anagram of '+s1);\n",
        "else:\n",
        "  print('no');"
      ],
      "metadata": {
        "id": "UIvw5I84PYi6"
      },
      "execution_count": null,
      "outputs": []
    },
    {
      "cell_type": "markdown",
      "source": [
        "palindrome"
      ],
      "metadata": {
        "id": "qCeyhRTvQYiP"
      }
    },
    {
      "cell_type": "code",
      "source": [
        "s=input('enter string');\n",
        "if s==s[::-1]:\n",
        "  print('it is a palindrome');\n",
        "else:\n",
        "  print('it is not a palindrome');"
      ],
      "metadata": {
        "colab": {
          "base_uri": "https://localhost:8080/"
        },
        "id": "QbizRXIAQcFX",
        "outputId": "528f7dd6-5ba0-4ec5-ed7f-95c56145da21"
      },
      "execution_count": null,
      "outputs": [
        {
          "output_type": "stream",
          "name": "stdout",
          "text": [
            "enter stringkousar\n",
            "it is not a palindrome\n"
          ]
        }
      ]
    },
    {
      "cell_type": "markdown",
      "source": [
        "fill the space with given character"
      ],
      "metadata": {
        "id": "HNslh32hWP1a"
      }
    },
    {
      "cell_type": "code",
      "source": [
        "string = input(\"Enter a String : \")\n",
        "result = ''  #empty string\n",
        "ch = input(\"Enter a Character : \")\n",
        "for i in string:  #iterating using for loop\n",
        "        if i == ' ':  #if any space found in the string\n",
        "            i = ch   #replacing space with character\n",
        "        result += i   #concatenating each character of the string without space\n",
        "print(result)"
      ],
      "metadata": {
        "colab": {
          "base_uri": "https://localhost:8080/"
        },
        "id": "0t0oCIuoWSuc",
        "outputId": "341dc9f4-1251-4e15-cea4-4f3c7d3c6fce"
      },
      "execution_count": null,
      "outputs": [
        {
          "output_type": "stream",
          "name": "stdout",
          "text": [
            "Enter a String : kou sar\n",
            "Enter a Character : s\n",
            "koussar\n"
          ]
        }
      ]
    },
    {
      "cell_type": "code",
      "source": [
        "string = input(\"Enter a String : \");\n",
        "ch = input(\"Enter a Character : \");\n",
        "for i in string:\n",
        "  if i==' ':\n",
        "    print(string.replace(i,ch));\n"
      ],
      "metadata": {
        "id": "GWYxsmqXcJer"
      },
      "execution_count": null,
      "outputs": []
    },
    {
      "cell_type": "markdown",
      "source": [
        "lower to upper case "
      ],
      "metadata": {
        "id": "cLhlMCaqffaO"
      }
    },
    {
      "cell_type": "code",
      "source": [
        "string = input(\"Enter a String : \");\n",
        "new=''\n",
        "for i in string:\n",
        "  i=(i.upper());\n",
        "  new +=i\n",
        "print(new)"
      ],
      "metadata": {
        "colab": {
          "base_uri": "https://localhost:8080/"
        },
        "id": "zSrF5Llafif3",
        "outputId": "0dc99fd6-941f-4136-a876-ac353feb86ba"
      },
      "execution_count": null,
      "outputs": [
        {
          "output_type": "stream",
          "name": "stdout",
          "text": [
            "Enter a String : advf\n",
            "ADVF\n"
          ]
        }
      ]
    },
    {
      "cell_type": "markdown",
      "source": [
        "highest frequency characeter"
      ],
      "metadata": {
        "id": "l7ksQZEihFWm"
      }
    },
    {
      "cell_type": "code",
      "source": [
        "string = input(\"Enter a String : \");\n",
        "dic={};\n",
        "m=0;\n",
        "res=0;\n",
        "for i in string:\n",
        "  c=0;\n",
        "  for j in string:\n",
        "    if i==j:\n",
        "      c+=1;\n",
        "      if c>m:\n",
        "        m=c;\n",
        "        res=i;\n",
        "  dic[i]=c;\n",
        "print(res)\n",
        "\n",
        "\n",
        "\n",
        "\n",
        "\n",
        "  "
      ],
      "metadata": {
        "id": "_qjvPh7bhEvF",
        "colab": {
          "base_uri": "https://localhost:8080/"
        },
        "outputId": "32be307f-f982-4c85-a61f-8f09bf5d4718"
      },
      "execution_count": null,
      "outputs": [
        {
          "output_type": "stream",
          "name": "stdout",
          "text": [
            "Enter a String : hhheyewws\n",
            "h\n"
          ]
        }
      ]
    },
    {
      "cell_type": "markdown",
      "source": [
        "store 1-100 and find the missing number"
      ],
      "metadata": {
        "id": "hjQ6lRnFARhH"
      }
    },
    {
      "cell_type": "code",
      "source": [
        "import array as arr\n",
        "\n",
        "a=arr.array('i',[]);\n",
        "n=int(input('enter number of elements to be stored:'));\n",
        "my_list=range(n)\n",
        "for i in range(n):\n",
        "  e=int(input());\n",
        "  a.append(e);\n",
        "for i in my_list:\n",
        "  if i not in a:\n",
        "    print(i,'is missing') \n"
      ],
      "metadata": {
        "id": "BHZ5LeQ3FEbi"
      },
      "execution_count": null,
      "outputs": []
    },
    {
      "cell_type": "markdown",
      "source": [
        "finding duplicate numbers"
      ],
      "metadata": {
        "id": "DS5FgEj4Hzs0"
      }
    },
    {
      "cell_type": "code",
      "source": [
        "a=arr.array('i',[]);\n",
        "n=int(input('enter number of elements to be stored:'));\n",
        "my_list=[]\n",
        "for i in range(n):\n",
        "  e=int(input());\n",
        "  a.append(e);\n",
        "for i in a:\n",
        "  if i not in my_list:\n",
        "    my_list.append(i)\n",
        "  else:\n",
        "    print(i,'is repeated')"
      ],
      "metadata": {
        "id": "860S0K7GGf2R"
      },
      "execution_count": null,
      "outputs": []
    },
    {
      "cell_type": "markdown",
      "source": [
        "pairs whoes sum is equal to given number"
      ],
      "metadata": {
        "id": "-G4hjLD3IhGK"
      }
    },
    {
      "cell_type": "code",
      "source": [
        "a=arr.array('i',[]);\n",
        "n=int(input('enter number of elements to be stored:'));\n",
        "for i in range(n):\n",
        "  e=int(input());\n",
        "  a.append(e);\n",
        "p=int(input('enter the number'))\n",
        "for i in range(n):\n",
        "  for j in range(n):\n",
        "    if a[i]+a[j]==p:\n",
        "      print(np.array([a[i],a[j]]));"
      ],
      "metadata": {
        "id": "iiQbjYIJIgWI"
      },
      "execution_count": null,
      "outputs": []
    },
    {
      "cell_type": "markdown",
      "source": [
        "scecond largest number in an array"
      ],
      "metadata": {
        "id": "1io6dGqkK7Uh"
      }
    },
    {
      "cell_type": "code",
      "source": [
        "a=arr.array('i',[]);\n",
        "n=int(input('enter number of elements to be stored:'));\n",
        "for i in range(n):\n",
        "  e=int(input());\n",
        "  a.append(e);\n",
        "s=sorted(a);\n",
        "print('the second largest element is',a[1]);"
      ],
      "metadata": {
        "colab": {
          "base_uri": "https://localhost:8080/"
        },
        "id": "mBWjjXmoK_CN",
        "outputId": "bff3dc61-b517-400d-c418-5f8b09ae9c8a"
      },
      "execution_count": null,
      "outputs": [
        {
          "output_type": "stream",
          "name": "stdout",
          "text": [
            "enter number of elements to be stored:3\n",
            "1\n",
            "2\n",
            "3\n",
            "the second largest element is 2\n"
          ]
        }
      ]
    },
    {
      "cell_type": "code",
      "source": [
        "l=[1,2,3,4];\n",
        "new=[];\n",
        "n=len(l)-1;\n",
        "while n>=0:\n",
        "  new.append(l[n]);\n",
        "  n-=1;\n",
        "print(new)"
      ],
      "metadata": {
        "colab": {
          "base_uri": "https://localhost:8080/"
        },
        "id": "GgaN3kJWL3H1",
        "outputId": "2b09f3fa-badf-4303-c584-ec154330d098"
      },
      "execution_count": null,
      "outputs": [
        {
          "output_type": "stream",
          "name": "stdout",
          "text": [
            "[4, 3, 2, 1]\n"
          ]
        }
      ]
    },
    {
      "cell_type": "code",
      "source": [
        "#Python libraries for math and graphics\n",
        "import numpy as np\n",
        "import mpmath as mp\n",
        "import matplotlib.pyplot as plt\n",
        "from numpy import linalg as LA\n",
        "from pylab import *\n",
        "import cvxpy  as cp\n",
        "\n",
        "\n",
        "# Create two scalar optimization variables.\n",
        "\n",
        "c = np.array([1,1])\n",
        "x = cp.Variable((2,1),nonneg=True)\n",
        "e1= np.array([1,0])\n",
        "e2 = np.array([0,1])\n",
        "p=np.array([e2@x,0])\n",
        "\n",
        "\n",
        "#Cost function\n",
        "f = c@x\n",
        "obj=cp.Minimize(f)\n",
        "constraints = [p@x==1]\n",
        "# Form and solve problem.\n",
        "prob = cp.Problem(obj, constraints)\n",
        "prob.solve()  # Returns the optimal value.\n",
        "print(\"status:\", prob.status)\n",
        "print(\"optimal value\", prob.value)\n",
        "print(\"optimal var\", x.value, y.value)"
      ],
      "metadata": {
        "id": "B0gxpIvRloK3"
      },
      "execution_count": null,
      "outputs": []
    },
    {
      "cell_type": "code",
      "source": [
        "import cvxpy as cp\n",
        "\n",
        "# Create two scalar optimization variables.\n",
        "x = cp.Variable()\n",
        "y = cp.Variable()\n",
        "\n",
        "# Create two constraints.\n",
        "constraints = [x>=0,\n",
        "               x*y==1]\n",
        "\n",
        "# Form objective.\n",
        "obj = cp.Minimize(x+y)\n",
        "\n",
        "# Form and solve problem.\n",
        "prob = cp.Problem(obj, constraints)\n",
        "prob.solve()  # Returns the optimal value.\n",
        "print(\"status:\", prob.status)\n",
        "print(\"optimal value\", prob.value)\n",
        "print(\"optimal var\", x.value, y.value)"
      ],
      "metadata": {
        "colab": {
          "base_uri": "https://localhost:8080/",
          "height": 432
        },
        "id": "Gp2WgAgCzVK8",
        "outputId": "f24585ec-3d5c-46d8-b4d9-9002face0328"
      },
      "execution_count": 29,
      "outputs": [
        {
          "output_type": "error",
          "ename": "DCPError",
          "evalue": "ignored",
          "traceback": [
            "\u001b[0;31m---------------------------------------------------------------------------\u001b[0m",
            "\u001b[0;31mDCPError\u001b[0m                                  Traceback (most recent call last)",
            "\u001b[0;32m<ipython-input-29-b199515d4cd6>\u001b[0m in \u001b[0;36m<module>\u001b[0;34m\u001b[0m\n\u001b[1;32m     14\u001b[0m \u001b[0;31m# Form and solve problem.\u001b[0m\u001b[0;34m\u001b[0m\u001b[0;34m\u001b[0m\u001b[0;34m\u001b[0m\u001b[0m\n\u001b[1;32m     15\u001b[0m \u001b[0mprob\u001b[0m \u001b[0;34m=\u001b[0m \u001b[0mcp\u001b[0m\u001b[0;34m.\u001b[0m\u001b[0mProblem\u001b[0m\u001b[0;34m(\u001b[0m\u001b[0mobj\u001b[0m\u001b[0;34m,\u001b[0m \u001b[0mconstraints\u001b[0m\u001b[0;34m)\u001b[0m\u001b[0;34m\u001b[0m\u001b[0;34m\u001b[0m\u001b[0m\n\u001b[0;32m---> 16\u001b[0;31m \u001b[0mprob\u001b[0m\u001b[0;34m.\u001b[0m\u001b[0msolve\u001b[0m\u001b[0;34m(\u001b[0m\u001b[0;34m)\u001b[0m  \u001b[0;31m# Returns the optimal value.\u001b[0m\u001b[0;34m\u001b[0m\u001b[0;34m\u001b[0m\u001b[0m\n\u001b[0m\u001b[1;32m     17\u001b[0m \u001b[0mprint\u001b[0m\u001b[0;34m(\u001b[0m\u001b[0;34m\"status:\"\u001b[0m\u001b[0;34m,\u001b[0m \u001b[0mprob\u001b[0m\u001b[0;34m.\u001b[0m\u001b[0mstatus\u001b[0m\u001b[0;34m)\u001b[0m\u001b[0;34m\u001b[0m\u001b[0;34m\u001b[0m\u001b[0m\n\u001b[1;32m     18\u001b[0m \u001b[0mprint\u001b[0m\u001b[0;34m(\u001b[0m\u001b[0;34m\"optimal value\"\u001b[0m\u001b[0;34m,\u001b[0m \u001b[0mprob\u001b[0m\u001b[0;34m.\u001b[0m\u001b[0mvalue\u001b[0m\u001b[0;34m)\u001b[0m\u001b[0;34m\u001b[0m\u001b[0;34m\u001b[0m\u001b[0m\n",
            "\u001b[0;32m/usr/local/lib/python3.7/dist-packages/cvxpy/problems/problem.py\u001b[0m in \u001b[0;36msolve\u001b[0;34m(self, *args, **kwargs)\u001b[0m\n\u001b[1;32m    479\u001b[0m         \u001b[0;32melse\u001b[0m\u001b[0;34m:\u001b[0m\u001b[0;34m\u001b[0m\u001b[0;34m\u001b[0m\u001b[0m\n\u001b[1;32m    480\u001b[0m             \u001b[0msolve_func\u001b[0m \u001b[0;34m=\u001b[0m \u001b[0mProblem\u001b[0m\u001b[0;34m.\u001b[0m\u001b[0m_solve\u001b[0m\u001b[0;34m\u001b[0m\u001b[0;34m\u001b[0m\u001b[0m\n\u001b[0;32m--> 481\u001b[0;31m         \u001b[0;32mreturn\u001b[0m \u001b[0msolve_func\u001b[0m\u001b[0;34m(\u001b[0m\u001b[0mself\u001b[0m\u001b[0;34m,\u001b[0m \u001b[0;34m*\u001b[0m\u001b[0margs\u001b[0m\u001b[0;34m,\u001b[0m \u001b[0;34m**\u001b[0m\u001b[0mkwargs\u001b[0m\u001b[0;34m)\u001b[0m\u001b[0;34m\u001b[0m\u001b[0;34m\u001b[0m\u001b[0m\n\u001b[0m\u001b[1;32m    482\u001b[0m \u001b[0;34m\u001b[0m\u001b[0m\n\u001b[1;32m    483\u001b[0m     \u001b[0;34m@\u001b[0m\u001b[0mclassmethod\u001b[0m\u001b[0;34m\u001b[0m\u001b[0;34m\u001b[0m\u001b[0m\n",
            "\u001b[0;32m/usr/local/lib/python3.7/dist-packages/cvxpy/problems/problem.py\u001b[0m in \u001b[0;36m_solve\u001b[0;34m(self, solver, warm_start, verbose, gp, qcp, requires_grad, enforce_dpp, ignore_dpp, **kwargs)\u001b[0m\n\u001b[1;32m   1006\u001b[0m \u001b[0;34m\u001b[0m\u001b[0m\n\u001b[1;32m   1007\u001b[0m         data, solving_chain, inverse_data = self.get_problem_data(\n\u001b[0;32m-> 1008\u001b[0;31m             solver, gp, enforce_dpp, ignore_dpp, verbose)\n\u001b[0m\u001b[1;32m   1009\u001b[0m \u001b[0;34m\u001b[0m\u001b[0m\n\u001b[1;32m   1010\u001b[0m         \u001b[0;32mif\u001b[0m \u001b[0mverbose\u001b[0m\u001b[0;34m:\u001b[0m\u001b[0;34m\u001b[0m\u001b[0;34m\u001b[0m\u001b[0m\n",
            "\u001b[0;32m/usr/local/lib/python3.7/dist-packages/cvxpy/problems/problem.py\u001b[0m in \u001b[0;36mget_problem_data\u001b[0;34m(self, solver, gp, enforce_dpp, ignore_dpp, verbose)\u001b[0m\n\u001b[1;32m    608\u001b[0m                 \u001b[0msolver\u001b[0m\u001b[0;34m=\u001b[0m\u001b[0msolver\u001b[0m\u001b[0;34m,\u001b[0m \u001b[0mgp\u001b[0m\u001b[0;34m=\u001b[0m\u001b[0mgp\u001b[0m\u001b[0;34m,\u001b[0m\u001b[0;34m\u001b[0m\u001b[0;34m\u001b[0m\u001b[0m\n\u001b[1;32m    609\u001b[0m                 \u001b[0menforce_dpp\u001b[0m\u001b[0;34m=\u001b[0m\u001b[0menforce_dpp\u001b[0m\u001b[0;34m,\u001b[0m\u001b[0;34m\u001b[0m\u001b[0;34m\u001b[0m\u001b[0m\n\u001b[0;32m--> 610\u001b[0;31m                 ignore_dpp=ignore_dpp)\n\u001b[0m\u001b[1;32m    611\u001b[0m             \u001b[0mself\u001b[0m\u001b[0;34m.\u001b[0m\u001b[0m_cache\u001b[0m\u001b[0;34m.\u001b[0m\u001b[0mkey\u001b[0m \u001b[0;34m=\u001b[0m \u001b[0mkey\u001b[0m\u001b[0;34m\u001b[0m\u001b[0;34m\u001b[0m\u001b[0m\n\u001b[1;32m    612\u001b[0m             \u001b[0mself\u001b[0m\u001b[0;34m.\u001b[0m\u001b[0m_cache\u001b[0m\u001b[0;34m.\u001b[0m\u001b[0msolving_chain\u001b[0m \u001b[0;34m=\u001b[0m \u001b[0msolving_chain\u001b[0m\u001b[0;34m\u001b[0m\u001b[0;34m\u001b[0m\u001b[0m\n",
            "\u001b[0;32m/usr/local/lib/python3.7/dist-packages/cvxpy/problems/problem.py\u001b[0m in \u001b[0;36m_construct_chain\u001b[0;34m(self, solver, gp, enforce_dpp, ignore_dpp)\u001b[0m\n\u001b[1;32m    845\u001b[0m         return construct_solving_chain(self, candidate_solvers, gp=gp,\n\u001b[1;32m    846\u001b[0m                                        \u001b[0menforce_dpp\u001b[0m\u001b[0;34m=\u001b[0m\u001b[0menforce_dpp\u001b[0m\u001b[0;34m,\u001b[0m\u001b[0;34m\u001b[0m\u001b[0;34m\u001b[0m\u001b[0m\n\u001b[0;32m--> 847\u001b[0;31m                                        ignore_dpp=ignore_dpp)\n\u001b[0m\u001b[1;32m    848\u001b[0m \u001b[0;34m\u001b[0m\u001b[0m\n\u001b[1;32m    849\u001b[0m     \u001b[0;34m@\u001b[0m\u001b[0mstaticmethod\u001b[0m\u001b[0;34m\u001b[0m\u001b[0;34m\u001b[0m\u001b[0m\n",
            "\u001b[0;32m/usr/local/lib/python3.7/dist-packages/cvxpy/reductions/solvers/solving_chain.py\u001b[0m in \u001b[0;36mconstruct_solving_chain\u001b[0;34m(problem, candidates, gp, enforce_dpp, ignore_dpp)\u001b[0m\n\u001b[1;32m    160\u001b[0m     \u001b[0;32mif\u001b[0m \u001b[0mlen\u001b[0m\u001b[0;34m(\u001b[0m\u001b[0mproblem\u001b[0m\u001b[0;34m.\u001b[0m\u001b[0mvariables\u001b[0m\u001b[0;34m(\u001b[0m\u001b[0;34m)\u001b[0m\u001b[0;34m)\u001b[0m \u001b[0;34m==\u001b[0m \u001b[0;36m0\u001b[0m\u001b[0;34m:\u001b[0m\u001b[0;34m\u001b[0m\u001b[0;34m\u001b[0m\u001b[0m\n\u001b[1;32m    161\u001b[0m         \u001b[0;32mreturn\u001b[0m \u001b[0mSolvingChain\u001b[0m\u001b[0;34m(\u001b[0m\u001b[0mreductions\u001b[0m\u001b[0;34m=\u001b[0m\u001b[0;34m[\u001b[0m\u001b[0mConstantSolver\u001b[0m\u001b[0;34m(\u001b[0m\u001b[0;34m)\u001b[0m\u001b[0;34m]\u001b[0m\u001b[0;34m)\u001b[0m\u001b[0;34m\u001b[0m\u001b[0;34m\u001b[0m\u001b[0m\n\u001b[0;32m--> 162\u001b[0;31m     \u001b[0mreductions\u001b[0m \u001b[0;34m=\u001b[0m \u001b[0m_reductions_for_problem_class\u001b[0m\u001b[0;34m(\u001b[0m\u001b[0mproblem\u001b[0m\u001b[0;34m,\u001b[0m \u001b[0mcandidates\u001b[0m\u001b[0;34m,\u001b[0m \u001b[0mgp\u001b[0m\u001b[0;34m)\u001b[0m\u001b[0;34m\u001b[0m\u001b[0;34m\u001b[0m\u001b[0m\n\u001b[0m\u001b[1;32m    163\u001b[0m \u001b[0;34m\u001b[0m\u001b[0m\n\u001b[1;32m    164\u001b[0m     \u001b[0;31m# Process DPP status of the problem.\u001b[0m\u001b[0;34m\u001b[0m\u001b[0;34m\u001b[0m\u001b[0;34m\u001b[0m\u001b[0m\n",
            "\u001b[0;32m/usr/local/lib/python3.7/dist-packages/cvxpy/reductions/solvers/solving_chain.py\u001b[0m in \u001b[0;36m_reductions_for_problem_class\u001b[0;34m(problem, candidates, gp)\u001b[0m\n\u001b[1;32m     93\u001b[0m                        \"Consider calling solve() with `qcp=True`.\")\n\u001b[1;32m     94\u001b[0m         raise DCPError(\n\u001b[0;32m---> 95\u001b[0;31m             \"Problem does not follow DCP rules. Specifically:\\n\" + append)\n\u001b[0m\u001b[1;32m     96\u001b[0m     \u001b[0;32melif\u001b[0m \u001b[0mgp\u001b[0m \u001b[0;32mand\u001b[0m \u001b[0;32mnot\u001b[0m \u001b[0mproblem\u001b[0m\u001b[0;34m.\u001b[0m\u001b[0mis_dgp\u001b[0m\u001b[0;34m(\u001b[0m\u001b[0;34m)\u001b[0m\u001b[0;34m:\u001b[0m\u001b[0;34m\u001b[0m\u001b[0;34m\u001b[0m\u001b[0m\n\u001b[1;32m     97\u001b[0m         \u001b[0mappend\u001b[0m \u001b[0;34m=\u001b[0m \u001b[0mbuild_non_disciplined_error_msg\u001b[0m\u001b[0;34m(\u001b[0m\u001b[0mproblem\u001b[0m\u001b[0;34m,\u001b[0m \u001b[0;34m'DGP'\u001b[0m\u001b[0;34m)\u001b[0m\u001b[0;34m\u001b[0m\u001b[0;34m\u001b[0m\u001b[0m\n",
            "\u001b[0;31mDCPError\u001b[0m: Problem does not follow DCP rules. Specifically:\nThe following constraints are not DCP:\nvar414 @ var415 == 1.0 , because the following subexpressions are not:\n|--  var414 @ var415"
          ]
        }
      ]
    }
  ]
}