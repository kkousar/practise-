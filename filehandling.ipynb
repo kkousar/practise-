{
  "nbformat": 4,
  "nbformat_minor": 0,
  "metadata": {
    "colab": {
      "name": "Untitled34.ipynb",
      "provenance": [],
      "authorship_tag": "ABX9TyMM6TD6UctmX61KyWe2buKr",
      "include_colab_link": true
    },
    "kernelspec": {
      "name": "python3",
      "display_name": "Python 3"
    },
    "language_info": {
      "name": "python"
    }
  },
  "cells": [
    {
      "cell_type": "markdown",
      "metadata": {
        "id": "view-in-github",
        "colab_type": "text"
      },
      "source": [
        "<a href=\"https://colab.research.google.com/github/kkousar/practise-/blob/main/filehandling.ipynb\" target=\"_parent\"><img src=\"https://colab.research.google.com/assets/colab-badge.svg\" alt=\"Open In Colab\"/></a>"
      ]
    },
    {
      "cell_type": "code",
      "execution_count": null,
      "metadata": {
        "id": "c2Rn9kmBA_lE"
      },
      "outputs": [],
      "source": [
        "import numpy as np\n",
        "import time\n",
        "\n",
        "x=np.linspace(-np.pi*2,np.pi*2,100);\n",
        "y=np.sin(x);\n",
        "f=open('textfile.txt','w');\n",
        "for i in range(len(x)):\n",
        "  f.write('%f \\t %f \\n'%(x[i],y[i]));\n",
        "f.close()\n",
        "s1=time.time();\n",
        "data1=np.loadtxt('textfile.txt');\n",
        "sb=time.time()-s1;\n",
        "print(sb)\n",
        "print(data1);"
      ]
    },
    {
      "cell_type": "code",
      "source": [
        "import numpy as np\n",
        "import time\n",
        "\n",
        "x=np.linspace(-np.pi*2,np.pi*2,100);\n",
        "y=np.sin(x);\n",
        "z=np.stack((x,y))\n",
        "np.save('binaryfile',z)\n",
        "\n",
        "s1=time.time();\n",
        "data2=np.load('binaryfile.npy');\n",
        "sb=time.time()-s1;\n",
        "\n",
        "print(data2)\n",
        "\n"
      ],
      "metadata": {
        "id": "3PFyMnTdGaMk"
      },
      "execution_count": null,
      "outputs": []
    },
    {
      "cell_type": "code",
      "source": [
        "import numpy as np\n",
        "import h5py\n",
        "import time\n",
        "\n",
        "x=np.linspace(-np.pi*2,np.pi*2,100);\n",
        "y=np.sin(x);\n",
        "z=np.stack((x,y))\n",
        "\n",
        "f2=h5py.File('hdf5file.h5','w');\n",
        "f2['p']=z;\n",
        "f2.close()\n",
        "\n",
        "f3=h5py.File('hdf5file.h5');\n",
        "data3=f3['p']\n",
        "data3=np.array(data3)\n",
        "\n",
        "print(data3)"
      ],
      "metadata": {
        "colab": {
          "base_uri": "https://localhost:8080/"
        },
        "id": "Mi-e9BY9HzKB",
        "outputId": "a5a75a07-9684-48a1-b414-d74ac945e296"
      },
      "execution_count": 19,
      "outputs": [
        {
          "output_type": "stream",
          "name": "stdout",
          "text": [
            "[[-6.28318531e+00 -6.15625227e+00 -6.02931923e+00 -5.90238620e+00\n",
            "  -5.77545316e+00 -5.64852012e+00 -5.52158709e+00 -5.39465405e+00\n",
            "  -5.26772102e+00 -5.14078798e+00 -5.01385494e+00 -4.88692191e+00\n",
            "  -4.75998887e+00 -4.63305583e+00 -4.50612280e+00 -4.37918976e+00\n",
            "  -4.25225672e+00 -4.12532369e+00 -3.99839065e+00 -3.87145761e+00\n",
            "  -3.74452458e+00 -3.61759154e+00 -3.49065850e+00 -3.36372547e+00\n",
            "  -3.23679243e+00 -3.10985939e+00 -2.98292636e+00 -2.85599332e+00\n",
            "  -2.72906028e+00 -2.60212725e+00 -2.47519421e+00 -2.34826118e+00\n",
            "  -2.22132814e+00 -2.09439510e+00 -1.96746207e+00 -1.84052903e+00\n",
            "  -1.71359599e+00 -1.58666296e+00 -1.45972992e+00 -1.33279688e+00\n",
            "  -1.20586385e+00 -1.07893081e+00 -9.51997774e-01 -8.25064737e-01\n",
            "  -6.98131701e-01 -5.71198664e-01 -4.44265628e-01 -3.17332591e-01\n",
            "  -1.90399555e-01 -6.34665183e-02  6.34665183e-02  1.90399555e-01\n",
            "   3.17332591e-01  4.44265628e-01  5.71198664e-01  6.98131701e-01\n",
            "   8.25064737e-01  9.51997774e-01  1.07893081e+00  1.20586385e+00\n",
            "   1.33279688e+00  1.45972992e+00  1.58666296e+00  1.71359599e+00\n",
            "   1.84052903e+00  1.96746207e+00  2.09439510e+00  2.22132814e+00\n",
            "   2.34826118e+00  2.47519421e+00  2.60212725e+00  2.72906028e+00\n",
            "   2.85599332e+00  2.98292636e+00  3.10985939e+00  3.23679243e+00\n",
            "   3.36372547e+00  3.49065850e+00  3.61759154e+00  3.74452458e+00\n",
            "   3.87145761e+00  3.99839065e+00  4.12532369e+00  4.25225672e+00\n",
            "   4.37918976e+00  4.50612280e+00  4.63305583e+00  4.75998887e+00\n",
            "   4.88692191e+00  5.01385494e+00  5.14078798e+00  5.26772102e+00\n",
            "   5.39465405e+00  5.52158709e+00  5.64852012e+00  5.77545316e+00\n",
            "   5.90238620e+00  6.02931923e+00  6.15625227e+00  6.28318531e+00]\n",
            " [ 2.44929360e-16  1.26592454e-01  2.51147987e-01  3.71662456e-01\n",
            "   4.86196736e-01  5.92907929e-01  6.90079011e-01  7.76146464e-01\n",
            "   8.49725430e-01  9.09631995e-01  9.54902241e-01  9.84807753e-01\n",
            "   9.98867339e-01  9.96854776e-01  9.78802446e-01  9.45000819e-01\n",
            "   8.95993774e-01  8.32569855e-01  7.55749574e-01  6.66769001e-01\n",
            "   5.67059864e-01  4.58226522e-01  3.42020143e-01  2.20310533e-01\n",
            "   9.50560433e-02 -3.17279335e-02 -1.58001396e-01 -2.81732557e-01\n",
            "  -4.00930535e-01 -5.13677392e-01 -6.18158986e-01 -7.12694171e-01\n",
            "  -7.95761841e-01 -8.66025404e-01 -9.22354294e-01 -9.63842159e-01\n",
            "  -9.89821442e-01 -9.99874128e-01 -9.93838464e-01 -9.71811568e-01\n",
            "  -9.34147860e-01 -8.81453363e-01 -8.14575952e-01 -7.34591709e-01\n",
            "  -6.42787610e-01 -5.40640817e-01 -4.29794912e-01 -3.12033446e-01\n",
            "  -1.89251244e-01 -6.34239197e-02  6.34239197e-02  1.89251244e-01\n",
            "   3.12033446e-01  4.29794912e-01  5.40640817e-01  6.42787610e-01\n",
            "   7.34591709e-01  8.14575952e-01  8.81453363e-01  9.34147860e-01\n",
            "   9.71811568e-01  9.93838464e-01  9.99874128e-01  9.89821442e-01\n",
            "   9.63842159e-01  9.22354294e-01  8.66025404e-01  7.95761841e-01\n",
            "   7.12694171e-01  6.18158986e-01  5.13677392e-01  4.00930535e-01\n",
            "   2.81732557e-01  1.58001396e-01  3.17279335e-02 -9.50560433e-02\n",
            "  -2.20310533e-01 -3.42020143e-01 -4.58226522e-01 -5.67059864e-01\n",
            "  -6.66769001e-01 -7.55749574e-01 -8.32569855e-01 -8.95993774e-01\n",
            "  -9.45000819e-01 -9.78802446e-01 -9.96854776e-01 -9.98867339e-01\n",
            "  -9.84807753e-01 -9.54902241e-01 -9.09631995e-01 -8.49725430e-01\n",
            "  -7.76146464e-01 -6.90079011e-01 -5.92907929e-01 -4.86196736e-01\n",
            "  -3.71662456e-01 -2.51147987e-01 -1.26592454e-01 -2.44929360e-16]]\n"
          ]
        }
      ]
    },
    {
      "cell_type": "code",
      "source": [
        "import numpy as np\n",
        "import h5py\n",
        "import time\n",
        "\n",
        "x=np.linspace(-np.pi*2,np.pi*2,100);\n",
        "y=np.sin(x);\n",
        "z=np.stack((x,y))\n",
        "\n",
        "write_file = h5py.File('abc.h5','w')\n",
        "write_file['data_1']=z\n",
        "write_file.close()\n",
        "\n",
        "read_file = h5py.File('abc.h5')\n",
        "s1=time.time()\n",
        "k=read_file['data_1']\n",
        "sbh5=time.time()-s1\n",
        "data_bin_h5=np.array(k)\n",
        "read_file.close()\n",
        "print(data_bin_h5)\n",
        "print(sbh5)"
      ],
      "metadata": {
        "id": "-tc90jwvKQY0"
      },
      "execution_count": null,
      "outputs": []
    },
    {
      "cell_type": "code",
      "source": [
        "import numpy as np\n",
        "from matplotlib import pyplot as plt\n",
        "import h5py\n",
        "import time\n",
        "\n",
        "x= np.linspace(-np.pi,np.pi,100)\n",
        "y=np.sin(x)\n",
        "my_file = open(\"sin_data.txt\",\"w\")\n",
        "my_file.write(\"# this is sine function\\n\")\n",
        "for i in range(len(x)):\n",
        "    my_file.write('%f \\t %f \\n'%(x[i],y[i]))\n",
        "my_file.close()\n",
        "\n",
        "s1=time.time()    \n",
        "data=np.loadtxt(\"sin_data.txt\")\n",
        "st=time.time()-s1\n",
        "#print(data)\n",
        "\n",
        "print(\"binary##################\")\n",
        "data_array=np.vstack((x,y))\n",
        "np.save('sin_data_bin',data_array)\n",
        "s1=time.time()\n",
        "data_bin=np.load('sin_data_bin.npy')\n",
        "sb=time.time()-s1\n",
        "#print(data_bin)\n",
        "\n",
        "print(\"binary h5##################\")\n",
        "write_file = h5py.File('abc.h5','w')\n",
        "write_file['data_1']=data_array\n",
        "write_file.close()\n",
        "\n",
        "read_file = h5py.File('abc.h5')\n",
        "s1=time.time()\n",
        "z=read_file['data_1']\n",
        "sbh5=time.time()-s1\n",
        "data_bin_h5=np.array(z)\n",
        "read_file.close()\n",
        "#print(data_bin_h5)\n",
        "print(st,sb,sbh5)"
      ],
      "metadata": {
        "colab": {
          "base_uri": "https://localhost:8080/"
        },
        "id": "li8BWRdBLscB",
        "outputId": "d4b38085-1b13-4fe6-87a4-9d4e90559fd9"
      },
      "execution_count": 20,
      "outputs": [
        {
          "output_type": "stream",
          "name": "stdout",
          "text": [
            "binary##################\n",
            "binary h5##################\n",
            "0.003316640853881836 0.0006043910980224609 0.00028061866760253906\n"
          ]
        }
      ]
    },
    {
      "cell_type": "code",
      "source": [
        "import numpy as np\n",
        "\n",
        "line_seens=set();\n",
        "f1=open('newdata.txt','w')\n",
        "f=open('mydata.txt','r')\n",
        "for i in f:\n",
        "  if i not in line_seens:  \n",
        "     f1.write(i);\n",
        "     line_seens.add(i)\n",
        "f1.close();\n",
        "open('newdata.txt')\n",
        "for i in open('newdata.txt','r'):\n",
        "  print(i)\n",
        "\n"
      ],
      "metadata": {
        "id": "gal0NH0RN6MC"
      },
      "execution_count": null,
      "outputs": []
    }
  ]
}