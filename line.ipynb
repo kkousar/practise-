{
  "nbformat": 4,
  "nbformat_minor": 0,
  "metadata": {
    "colab": {
      "provenance": [],
      "collapsed_sections": [],
      "authorship_tag": "ABX9TyNwfZpDdwzZFbsh+5LDonAz",
      "include_colab_link": true
    },
    "kernelspec": {
      "name": "python3",
      "display_name": "Python 3"
    },
    "language_info": {
      "name": "python"
    }
  },
  "cells": [
    {
      "cell_type": "markdown",
      "metadata": {
        "id": "view-in-github",
        "colab_type": "text"
      },
      "source": [
        "<a href=\"https://colab.research.google.com/github/kkousar/practise-/blob/main/line.ipynb\" target=\"_parent\"><img src=\"https://colab.research.google.com/assets/colab-badge.svg\" alt=\"Open In Colab\"/></a>"
      ]
    },
    {
      "cell_type": "code",
      "execution_count": null,
      "metadata": {
        "colab": {
          "base_uri": "https://localhost:8080/",
          "height": 282
        },
        "id": "3P6RbbkFy3Ye",
        "outputId": "f8327c4e-0ebf-4ddd-960f-9f6c655eeed7"
      },
      "outputs": [
        {
          "output_type": "stream",
          "name": "stdout",
          "text": [
            "since,the slope of opposite lines are same the points form the vertices of the parallelogram\n"
          ]
        },
        {
          "output_type": "display_data",
          "data": {
            "text/plain": [
              "<Figure size 432x288 with 1 Axes>"
            ],
            "image/png": "[encoded data removed]"
          },
          "metadata": {
            "needs_background": "light"
          }
        }
      ],
      "source": [
        "import matplotlib.pyplot as plt\n",
        "import matplotlib.patches as patches\n",
        "\n",
        "fig = plt.figure()\n",
        "ax = fig.add_subplot(111, aspect='equal')\n",
        "\n",
        "# Parallelogram\n",
        "x = [-2,4,3,-3]\n",
        "y = [-1,0,3,2]\n",
        "slope_ab=(y[1]-y[0])/(x[1]-x[0])\n",
        "slope_dc=(y[2]-y[3])/(x[2]-x[3])\n",
        "slope_bc=(y[2]-y[1])/(x[2]-x[1])\n",
        "slope_ad=(y[3]-y[0])/(x[3]-x[0])\n",
        "points=['A','B','C','D']\n",
        "c=['r.','b.','k.','g.']\n",
        "if slope_ab==slope_dc and slope_bc==slope_ad:\n",
        "  print('since,the slope of opposite lines are same the points form the vertices of the parallelogram');\n",
        "else:\n",
        "  print('the points are not the vertices of parallelogram');\n",
        "for i in range(4):\n",
        "  ax.plot(x[i],y[i],c[i],label=points[i])\n",
        "ax.add_patch(patches.Polygon(xy=list(zip(x,y)), fill=False))\n",
        "plt.xlim(-7,7);\n",
        "plt.ylim(-7,7);\n",
        "plt.legend();\n",
        "\n",
        "\n",
        "plt.show()  \n"
      ]
    },
    {
      "cell_type": "code",
      "source": [
        "y=[1,2]\n",
        "print(y[0])"
      ],
      "metadata": {
        "colab": {
          "base_uri": "https://localhost:8080/"
        },
        "id": "OYrfoC2d26qS",
        "outputId": "9e68076e-857c-4dc6-d437-4a747b70e463"
      },
      "execution_count": null,
      "outputs": [
        {
          "output_type": "stream",
          "name": "stdout",
          "text": [
            "1\n"
          ]
        }
      ]
    },
    {
      "cell_type": "code",
      "source": [
        "import matplotlib.pyplot as plt\n",
        "import matplotlib.patches as patches\n",
        "import array as arr\n",
        "import numpy as np\n",
        "\n",
        "#to plot paralellogram\n",
        "x = [-2,4,3,-3]\n",
        "y = [-1,0,3,2]\n",
        "c=['ro','bo','ko','go'] #colour labels to vertex\n",
        "\n",
        "fig = plt.figure()\n",
        "ax = fig.add_subplot(111, aspect='equal')\n",
        "\n",
        "vert_labels = ['A(-2,-1)','B(4,0)','C(3,3)','D(-3,2)']\n",
        "for i, txt in enumerate(vert_labels):\n",
        "    plt.annotate(txt, # this is the text\n",
        "                 (x[i], y[i]), # this is the point to label\n",
        "                 textcoords=\"offset points\", # how to position the text\n",
        "                 xytext=(0,10), # distance from text to points (x,y)\n",
        "                 ha='center') # horizontal alignment can be left, right or center\n",
        "ax.add_patch(patches.Polygon(xy=list(zip(x,y)), fill=False)) \n",
        "for i in range(4):\n",
        "  ax.plot(x[i],y[i],c[i])\n",
        "plt.xlabel('$x$')\n",
        "plt.ylabel('$y$')\n",
        "plt.grid() # minor\n",
        "plt.axis([-5,5,-2,5])\n",
        "plt.show()\n",
        "\n",
        "#to check if given points are vertex of parallelogram\n",
        "\n",
        "\n",
        "A=np.array([-2,-1])\n",
        "B=np.array([4,0])\n",
        "C=np.array([3,3])\n",
        "D=np.array([-3,2])\n",
        "\n",
        "P=B-A #vector p\n",
        "Q=C-D #vector q\n",
        "R=B-C\n",
        "S=A-D\n",
        "\n",
        "X= [P,Q]\n",
        "Y=[R,S]\n",
        "\n",
        "PcurlQ= np.linalg.det(X)\n",
        "RcurlS= np.linalg.det(Y)\n",
        "\n",
        "if PcurlQ==0 and RcurlS==0:\n",
        "  print('since,the slope of opposite line are equal the points form the vertices of the parallelogram');\n",
        "else:\n",
        "  print('the points are not the vertices of parallelogram');"
      ],
      "metadata": {
        "id": "piBtyQ-YpVB_",
        "outputId": "2d52d474-ca34-4a8b-9ddf-456c615e7d6d",
        "colab": {
          "base_uri": "https://localhost:8080/",
          "height": 300
        }
      },
      "execution_count": 1,
      "outputs": [
        {
          "output_type": "display_data",
          "data": {
            "text/plain": [
              "<Figure size 432x288 with 1 Axes>"
            ],
            "image/png": "[encoded data removed]"
          },
          "metadata": {
            "needs_background": "light"
          }
        },
        {
          "output_type": "stream",
          "name": "stdout",
          "text": [
            "since,the slope of opposite line are equal the points form the vertices of the parallelogram\n"
          ]
        }
      ]
    }
  ]
}