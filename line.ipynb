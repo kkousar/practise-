{
  "nbformat": 4,
  "nbformat_minor": 0,
  "metadata": {
    "colab": {
      "provenance": [],
      "collapsed_sections": [],
      "authorship_tag": "ABX9TyNSJSZFX/9H11w74c85IjUo",
      "include_colab_link": true
    },
    "kernelspec": {
      "name": "python3",
      "display_name": "Python 3"
    },
    "language_info": {
      "name": "python"
    }
  },
  "cells": [
    {
      "cell_type": "markdown",
      "metadata": {
        "id": "view-in-github",
        "colab_type": "text"
      },
      "source": [
        "<a href=\"https://colab.research.google.com/github/kkousar/practise-/blob/main/line.ipynb\" target=\"_parent\"><img src=\"https://colab.research.google.com/assets/colab-badge.svg\" alt=\"Open In Colab\"/></a>"
      ]
    },
    {
      "cell_type": "code",
      "execution_count": 36,
      "metadata": {
        "colab": {
          "base_uri": "https://localhost:8080/",
          "height": 282
        },
        "id": "3P6RbbkFy3Ye",
        "outputId": "f8327c4e-0ebf-4ddd-960f-9f6c655eeed7"
      },
      "outputs": [
        {
          "output_type": "stream",
          "name": "stdout",
          "text": [
            "since,the slope of opposite lines are same the points form the vertices of the parallelogram\n"
          ]
        },
        {
          "output_type": "display_data",
          "data": {
            "text/plain": [
              "<Figure size 432x288 with 1 Axes>"
            ],
            "image/png": "[encoded data removed]"
          },
          "metadata": {
            "needs_background": "light"
          }
        }
      ],
      "source": [
        "import matplotlib.pyplot as plt\n",
        "import matplotlib.patches as patches\n",
        "\n",
        "fig = plt.figure()\n",
        "ax = fig.add_subplot(111, aspect='equal')\n",
        "\n",
        "# Parallelogram\n",
        "x = [-2,4,3,-3]\n",
        "y = [-1,0,3,2]\n",
        "slope_ab=(y[1]-y[0])/(x[1]-x[0])\n",
        "slope_dc=(y[2]-y[3])/(x[2]-x[3])\n",
        "slope_bc=(y[2]-y[1])/(x[2]-x[1])\n",
        "slope_ad=(y[3]-y[0])/(x[3]-x[0])\n",
        "points=['A','B','C','D']\n",
        "c=['r.','b.','k.','g.']\n",
        "if slope_ab==slope_dc and slope_bc==slope_ad:\n",
        "  print('since,the slope of opposite lines are same the points form the vertices of the parallelogram');\n",
        "else:\n",
        "  print('the points are not the vertices of parallelogram');\n",
        "for i in range(4):\n",
        "  ax.plot(x[i],y[i],c[i],label=points[i])\n",
        "ax.add_patch(patches.Polygon(xy=list(zip(x,y)), fill=False))\n",
        "plt.xlim(-7,7);\n",
        "plt.ylim(-7,7);\n",
        "plt.legend();\n",
        "\n",
        "\n",
        "plt.show()  \n"
      ]
    },
    {
      "cell_type": "code",
      "source": [
        "y=[1,2]\n",
        "print(y[0])"
      ],
      "metadata": {
        "colab": {
          "base_uri": "https://localhost:8080/"
        },
        "id": "OYrfoC2d26qS",
        "outputId": "9e68076e-857c-4dc6-d437-4a747b70e463"
      },
      "execution_count": 10,
      "outputs": [
        {
          "output_type": "stream",
          "name": "stdout",
          "text": [
            "1\n"
          ]
        }
      ]
    }
  ]
}