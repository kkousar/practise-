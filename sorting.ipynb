{
  "nbformat": 4,
  "nbformat_minor": 0,
  "metadata": {
    "colab": {
      "name": "Untitled21.ipynb",
      "provenance": [],
      "authorship_tag": "ABX9TyORrZHmKDYU8JQnwh5Xu5wz",
      "include_colab_link": true
    },
    "kernelspec": {
      "name": "python3",
      "display_name": "Python 3"
    },
    "language_info": {
      "name": "python"
    }
  },
  "cells": [
    {
      "cell_type": "markdown",
      "metadata": {
        "id": "view-in-github",
        "colab_type": "text"
      },
      "source": [
        "<a href=\"https://colab.research.google.com/github/kkousar/practise-/blob/main/sorting.ipynb\" target=\"_parent\"><img src=\"https://colab.research.google.com/assets/colab-badge.svg\" alt=\"Open In Colab\"/></a>"
      ]
    },
    {
      "cell_type": "markdown",
      "source": [
        "#bubble sorting"
      ],
      "metadata": {
        "id": "8_1qhbccGc5y"
      }
    },
    {
      "cell_type": "code",
      "execution_count": 6,
      "metadata": {
        "colab": {
          "base_uri": "https://localhost:8080/"
        },
        "id": "kKLo7EFsGbqR",
        "outputId": "e24f0b37-5138-44de-bc2e-529bfe22147a"
      },
      "outputs": [
        {
          "output_type": "stream",
          "name": "stdout",
          "text": [
            "[1, 2, 3, 3, 5, 6]\n"
          ]
        }
      ],
      "source": [
        "n=[2,3,1,5,6,3];\n",
        "for i in range(len(n)):\n",
        "  for j in range(1,len(n)-i):\n",
        "      if n[j]<n[j-1]:\n",
        "        n[j],n[j-1]=n[j-1],n[j]\n",
        "\n",
        "print(n)"
      ]
    },
    {
      "cell_type": "markdown",
      "source": [
        "#selection sort"
      ],
      "metadata": {
        "id": "jagQS4z6HXo0"
      }
    },
    {
      "cell_type": "code",
      "source": [
        "n=[10,6,7,8,9,4,5,3,2];\n",
        "\n",
        "for i in range(len(n)):\n",
        "  for j in range(len(n)):\n",
        "    if n[i]>n[j]:\n",
        "      n[i],n[j]=n[j],n[i]\n",
        "print(n)\n",
        "      \n"
      ],
      "metadata": {
        "colab": {
          "base_uri": "https://localhost:8080/"
        },
        "id": "RxlWou_oHaP4",
        "outputId": "0dbcef3d-c69f-4d94-f805-2c398d2d4bd1"
      },
      "execution_count": 8,
      "outputs": [
        {
          "output_type": "stream",
          "name": "stdout",
          "text": [
            "[10, 9, 8, 7, 6, 5, 4, 3, 2]\n"
          ]
        }
      ]
    },
    {
      "cell_type": "markdown",
      "source": [
        "#insertion sort"
      ],
      "metadata": {
        "id": "yNbXyrODII10"
      }
    },
    {
      "cell_type": "code",
      "source": [
        ""
      ],
      "metadata": {
        "id": "PC1VdWZcIMaq"
      },
      "execution_count": null,
      "outputs": []
    }
  ]
}