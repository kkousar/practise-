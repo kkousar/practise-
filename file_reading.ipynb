{
  "nbformat": 4,
  "nbformat_minor": 0,
  "metadata": {
    "colab": {
      "name": "Untitled27.ipynb",
      "provenance": [],
      "collapsed_sections": [],
      "authorship_tag": "ABX9TyM2xl0qHdLJX35HAtgLPaV8",
      "include_colab_link": true
    },
    "kernelspec": {
      "name": "python3",
      "display_name": "Python 3"
    },
    "language_info": {
      "name": "python"
    }
  },
  "cells": [
    {
      "cell_type": "markdown",
      "metadata": {
        "id": "view-in-github",
        "colab_type": "text"
      },
      "source": [
        "<a href=\"https://colab.research.google.com/github/kkousar/practise-/blob/main/file_reading.ipynb\" target=\"_parent\"><img src=\"https://colab.research.google.com/assets/colab-badge.svg\" alt=\"Open In Colab\"/></a>"
      ]
    },
    {
      "cell_type": "markdown",
      "source": [
        ".npy  format \n",
        ",storing ASCII format to binary and reading it again"
      ],
      "metadata": {
        "id": "59B5X485SbD4"
      }
    },
    {
      "cell_type": "code",
      "execution_count": 17,
      "metadata": {
        "colab": {
          "base_uri": "https://localhost:8080/"
        },
        "id": "4xNV-0IyP2cK",
        "outputId": "256776f1-3c64-46ae-c10f-91d1185481c0"
      },
      "outputs": [
        {
          "output_type": "stream",
          "name": "stdout",
          "text": [
            "{'kousar': 21}\n"
          ]
        }
      ],
      "source": [
        "import numpy as np\n",
        "import pickle\n",
        "\n",
        "arr={'kousar':21};\n",
        "np.save('my_data',arr);\n",
        "data=np.load('my_data.npy',allow_pickle=True); \n",
        "print(data)\n",
        "\n",
        "  \n",
        "\n",
        "\n"
      ]
    },
    {
      "cell_type": "markdown",
      "source": [
        "#.hdf5 format"
      ],
      "metadata": {
        "id": "PXFICTiTSaHY"
      }
    },
    {
      "cell_type": "code",
      "source": [
        "!pip install h5py\n"
      ],
      "metadata": {
        "colab": {
          "base_uri": "https://localhost:8080/"
        },
        "id": "kx5WKZ_aSy04",
        "outputId": "572aae64-15ad-4a4b-9f79-0726c579f6f1"
      },
      "execution_count": 22,
      "outputs": [
        {
          "output_type": "stream",
          "name": "stdout",
          "text": [
            "Looking in indexes: https://pypi.org/simple, https://us-python.pkg.dev/colab-wheels/public/simple/\n",
            "Requirement already satisfied: h5py in /usr/local/lib/python3.7/dist-packages (3.1.0)\n",
            "Requirement already satisfied: numpy>=1.14.5 in /usr/local/lib/python3.7/dist-packages (from h5py) (1.21.6)\n",
            "Requirement already satisfied: cached-property in /usr/local/lib/python3.7/dist-packages (from h5py) (1.5.2)\n"
          ]
        }
      ]
    },
    {
      "cell_type": "code",
      "source": [
        "import h5py\n",
        "\n",
        "write_file = h5py.File('data_set.h5');\n",
        "arr=[1,2,3,4];\n",
        "write_file['data_1'] = arr;\n",
        "write_file.close()"
      ],
      "metadata": {
        "id": "gj14lpGWUinK"
      },
      "execution_count": null,
      "outputs": []
    },
    {
      "cell_type": "markdown",
      "source": [
        "hdf5 takes less time to open the file rather than .npy format,so it is preferred mostly"
      ],
      "metadata": {
        "id": "Ga3EKji3Vg89"
      }
    }
  ]
}