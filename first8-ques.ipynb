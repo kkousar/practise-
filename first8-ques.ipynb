{
  "nbformat": 4,
  "nbformat_minor": 0,
  "metadata": {
    "colab": {
      "name": "Untitled18.ipynb",
      "provenance": [],
      "authorship_tag": "ABX9TyOw166tK0PTprVHvKo/8UC5",
      "include_colab_link": true
    },
    "kernelspec": {
      "name": "python3",
      "display_name": "Python 3"
    },
    "language_info": {
      "name": "python"
    }
  },
  "cells": [
    {
      "cell_type": "markdown",
      "metadata": {
        "id": "view-in-github",
        "colab_type": "text"
      },
      "source": [
        "<a href=\"https://colab.research.google.com/github/kkousar/practise-/blob/main/first8-ques.ipynb\" target=\"_parent\"><img src=\"https://colab.research.google.com/assets/colab-badge.svg\" alt=\"Open In Colab\"/></a>"
      ]
    },
    {
      "cell_type": "markdown",
      "source": [
        "Python program to reverse a number"
      ],
      "metadata": {
        "id": "gh_1Rsp5MY09"
      }
    },
    {
      "cell_type": "code",
      "execution_count": null,
      "metadata": {
        "colab": {
          "base_uri": "https://localhost:8080/"
        },
        "id": "nUFXT92EMG3l",
        "outputId": "15d54681-6f80-4ffd-d00f-8e95ff60a5e4"
      },
      "outputs": [
        {
          "output_type": "stream",
          "name": "stdout",
          "text": [
            "reverse of a string is 654\n"
          ]
        }
      ],
      "source": [
        "n=456;\n",
        "reverse=0;\n",
        "while n!=0:\n",
        "  reverse=reverse*10+n%10;\n",
        "  n=n//10;\n",
        "print('reverse of a string is '+str(reverse));"
      ]
    },
    {
      "cell_type": "markdown",
      "source": [
        "Program to check a number is Armstrong or not in python programming language"
      ],
      "metadata": {
        "id": "URWkJkpZNHCm"
      }
    },
    {
      "cell_type": "code",
      "source": [
        "a=344\n",
        "n=a;\n",
        "ams=0;\n",
        "while n!=0:\n",
        "  ams=ams+(n%10)**3;\n",
        "  n=n//10;\n",
        "if ams==a:\n",
        "  print('it is an amstrong number');\n",
        "else:\n",
        "  print('it is not an amstrong number');"
      ],
      "metadata": {
        "colab": {
          "base_uri": "https://localhost:8080/"
        },
        "id": "Ulu9LFv5NVsv",
        "outputId": "513c0257-8781-4c16-fb9d-aca18680ca86"
      },
      "execution_count": null,
      "outputs": [
        {
          "output_type": "stream",
          "name": "stdout",
          "text": [
            "it is not an amstrong number\n"
          ]
        }
      ]
    },
    {
      "cell_type": "markdown",
      "source": [
        "prime or not"
      ],
      "metadata": {
        "id": "-HZUKckxOTXz"
      }
    },
    {
      "cell_type": "code",
      "source": [
        "a=12;\n",
        "if (a%2==0):\n",
        "  print('it is prime');\n",
        "else:\n",
        "  print('it is not a prime')"
      ],
      "metadata": {
        "colab": {
          "base_uri": "https://localhost:8080/"
        },
        "id": "_arqrIgAOad-",
        "outputId": "4eace091-4951-4343-b563-769842086941"
      },
      "execution_count": null,
      "outputs": [
        {
          "output_type": "stream",
          "name": "stdout",
          "text": [
            "it is prime\n"
          ]
        }
      ]
    },
    {
      "cell_type": "markdown",
      "source": [
        "fabinacco series uing iterative method"
      ],
      "metadata": {
        "id": "9r6WiAYvO0aM"
      }
    },
    {
      "cell_type": "code",
      "source": [
        "n=5;#number of fabinocci numbers\n",
        "n1=0;\n",
        "n2=1;\n",
        "print('0');\n",
        "for i in range(n):\n",
        "  temp=n1\n",
        "  n1=n2\n",
        "  n2=n2+temp;\n",
        "  print(n2);\n"
      ],
      "metadata": {
        "id": "6aahkqN1O0F-"
      },
      "execution_count": null,
      "outputs": []
    },
    {
      "cell_type": "markdown",
      "source": [
        "fabinacco series uing recursive method"
      ],
      "metadata": {
        "id": "E6TToGN2ID0b"
      }
    },
    {
      "cell_type": "code",
      "source": [
        "n=5;#number of fabinocci numbers\n",
        "def fab(n):\n",
        "  if n==0:\n",
        "    return 0;\n",
        "  elif n==1:\n",
        "    return 1;\n",
        "  else:\n",
        "    return fab(n-1)+fab(n-2);\n",
        "for i in range(5):\n",
        "  print(fab(i));\n"
      ],
      "metadata": {
        "id": "0dFN1Y2pJVlI"
      },
      "execution_count": null,
      "outputs": []
    },
    {
      "cell_type": "markdown",
      "source": [
        "palindrome number or not using iterative method"
      ],
      "metadata": {
        "id": "bE8payJ9LOSk"
      }
    },
    {
      "cell_type": "code",
      "source": [
        "a=121;\n",
        "n=a;\n",
        "reverse=0;\n",
        "while n!=0:\n",
        "  reverse=reverse*10+n%10;\n",
        "  n=n//10;\n",
        "if (reverse==a):\n",
        "  print('it is a palindrome');\n",
        "else:\n",
        "  print('not a palindrome');"
      ],
      "metadata": {
        "colab": {
          "base_uri": "https://localhost:8080/"
        },
        "id": "xU6kI0NJLNH2",
        "outputId": "639959d8-f1ba-4fe2-913c-6b4ff81be95a"
      },
      "execution_count": null,
      "outputs": [
        {
          "output_type": "stream",
          "name": "stdout",
          "text": [
            "it is a palindrome\n"
          ]
        }
      ]
    },
    {
      "cell_type": "markdown",
      "source": [
        "palindrome number or not using recursive  method"
      ],
      "metadata": {
        "id": "qDAYwyujcZoL"
      }
    },
    {
      "cell_type": "code",
      "source": [
        "def rev(n):\n",
        "  if n<10:\n",
        "    return n;\n",
        "  else:\n",
        "    return int(str(n%10)+str(rev(n//10)));\n",
        "def ispalin(n):\n",
        "  if n==rev(n):\n",
        "    return 1;\n",
        "n=12521;\n",
        "if ispalin(n)==1:\n",
        "  print('it is palindrome');\n",
        "else:\n",
        "  print('it is not a palindrome');\n",
        "  "
      ],
      "metadata": {
        "id": "toryJdSVcd-l"
      },
      "execution_count": null,
      "outputs": []
    },
    {
      "cell_type": "markdown",
      "source": [
        "greatest amoung 3 integers"
      ],
      "metadata": {
        "id": "rVQM-ZQLfwrH"
      }
    },
    {
      "cell_type": "code",
      "source": [
        "a,b,c=10,20,0;\n",
        "max=0;\n",
        "if (a>b)&(a>c):\n",
        "  max=a;\n",
        "elif (b>a)&(b>c):\n",
        "  max=b;\n",
        "else:\n",
        "  max=c;\n",
        "print('max of three is :'+str(max));"
      ],
      "metadata": {
        "colab": {
          "base_uri": "https://localhost:8080/"
        },
        "id": "mS_vmBbxf0pO",
        "outputId": "8769c58d-fe60-48b8-ccfb-fff4ff63b024"
      },
      "execution_count": 12,
      "outputs": [
        {
          "output_type": "stream",
          "name": "stdout",
          "text": [
            "max of three is :20\n"
          ]
        }
      ]
    },
    {
      "cell_type": "markdown",
      "source": [
        "to check binary program or not"
      ],
      "metadata": {
        "id": "Rjn_cd0yga6S"
      }
    },
    {
      "cell_type": "code",
      "source": [
        "n=str(101100);\n",
        "for i in n:\n",
        "   if (i=!0)&(i=!1):\n",
        "    print('not binary');\n",
        "    break;\n",
        "   else:\n",
        "    print('binary');\n"
      ],
      "metadata": {
        "id": "XwfLzEhmgZ4q"
      },
      "execution_count": 18,
      "outputs": []
    },
    {
      "cell_type": "code",
      "source": [
        ""
      ],
      "metadata": {
        "id": "i7FoSr_QhCZv"
      },
      "execution_count": null,
      "outputs": []
    }
  ]
}